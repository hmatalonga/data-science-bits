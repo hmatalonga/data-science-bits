{
  "nbformat": 4,
  "nbformat_minor": 0,
  "metadata": {
    "colab": {
      "name": "logistic-regression-algorithm.ipynb",
      "provenance": [],
      "collapsed_sections": []
    },
    "kernelspec": {
      "name": "python3",
      "display_name": "Python 3"
    }
  },
  "cells": [
    {
      "cell_type": "markdown",
      "metadata": {
        "id": "ULKy-vWjopM8"
      },
      "source": [
        "# Logistic Regression\n",
        "\n",
        "[![Open In Colab](https://colab.research.google.com/assets/colab-badge.svg)](https://colab.research.google.com/github/hmatalonga/data-science-bits/blob/master/notebooks/logistic_regression.ipynb)\n",
        "\n",
        "Logistic Regression algorithm implementation from scratch.\n",
        "\n",
        "**Acknowledgements:** This code was originally inspired by [MLfromscratch](https://github.com/python-engineer/MLfromscratch) repository."
      ]
    },
    {
      "cell_type": "code",
      "metadata": {
        "id": "iW0tqL99ogdq"
      },
      "source": [
        "import numpy as np\n",
        "import matplotlib.pyplot as plt\n",
        "import seaborn as sns\n",
        "\n",
        "from sklearn.datasets import load_breast_cancer\n",
        "from sklearn.metrics import classification_report\n",
        "from sklearn.model_selection import train_test_split\n",
        "\n",
        "import warnings\n",
        "\n",
        "sns.set_theme()\n",
        "warnings.filterwarnings('ignore')"
      ],
      "execution_count": 1,
      "outputs": []
    },
    {
      "cell_type": "code",
      "metadata": {
        "id": "PeaSHlcWoxoL"
      },
      "source": [
        "# Set seed for reproducibility\n",
        "SEED = 42\n",
        "np.random.seed(42)"
      ],
      "execution_count": 2,
      "outputs": []
    },
    {
      "cell_type": "code",
      "metadata": {
        "id": "rhLT5YxymsWl"
      },
      "source": [
        "class LogisticRegression:\n",
        "\n",
        "  def __init__(self, learning_rate=0.001, n_iters=1000):\n",
        "    self.learning_rate = learning_rate\n",
        "    self.n_iters = n_iters\n",
        "    self.weights = None\n",
        "    self.bias = None\n",
        "\n",
        "  def fit(self, X, y):\n",
        "    n_samples, n_features = X.shape\n",
        "\n",
        "    # init parameters\n",
        "    self.weights = np.zeros(shape=n_features)\n",
        "    self.bias = 0\n",
        "\n",
        "    # gradient descent\n",
        "    for _ in range(self.n_iters):\n",
        "      y_pred = np.dot(X, self.weights) + self.bias\n",
        "      y_pred = self._sigmoid(y_pred)\n",
        "      \n",
        "      # compute gradients\n",
        "      dw = (1 / n_samples) * np.dot(X.T, (y_pred - y))\n",
        "      db = (1 / n_samples) * np.sum(y_pred - y)\n",
        "\n",
        "      # update parameters\n",
        "      self.weights -= self.learning_rate * dw\n",
        "      self.bias -= self.learning_rate * db\n",
        "\n",
        "    return self\n",
        "\n",
        "  def predict(self, X):\n",
        "    y_pred = np.dot(X, self.weights) + self.bias\n",
        "    y_pred = self._sigmoid(y_pred)\n",
        "\n",
        "    return np.where(y_pred > 0.5, 1, 0)\n",
        "\n",
        "  def _sigmoid(self, x):\n",
        "    return 1.0 / (1 + np.exp(-x))"
      ],
      "execution_count": 3,
      "outputs": []
    },
    {
      "cell_type": "code",
      "metadata": {
        "id": "nrpwl5LekhBO"
      },
      "source": [
        "X, y = load_breast_cancer(return_X_y=True)"
      ],
      "execution_count": 4,
      "outputs": []
    },
    {
      "cell_type": "code",
      "metadata": {
        "id": "V0HHMEjZmihb"
      },
      "source": [
        "X_train, X_test, y_train, y_test = train_test_split(X, y, test_size=0.2,\n",
        "                                                    random_state=SEED)"
      ],
      "execution_count": 5,
      "outputs": []
    },
    {
      "cell_type": "code",
      "metadata": {
        "colab": {
          "base_uri": "https://localhost:8080/"
        },
        "id": "PAGIbXLomrqe",
        "outputId": "a33cb4ea-dfa1-481e-a868-d706c1f43a67"
      },
      "source": [
        "log_reg = LogisticRegression(learning_rate=0.01, n_iters=1000).fit(X_train, y_train)\n",
        "\n",
        "y_pred = log_reg.predict(X_test)\n",
        "\n",
        "print(classification_report(y_test, y_pred))"
      ],
      "execution_count": 6,
      "outputs": [
        {
          "output_type": "stream",
          "text": [
            "              precision    recall  f1-score   support\n",
            "\n",
            "           0       0.88      1.00      0.93        43\n",
            "           1       1.00      0.92      0.96        71\n",
            "\n",
            "    accuracy                           0.95       114\n",
            "   macro avg       0.94      0.96      0.95       114\n",
            "weighted avg       0.95      0.95      0.95       114\n",
            "\n"
          ],
          "name": "stdout"
        }
      ]
    }
  ]
}